{
 "cells": [
  {
   "cell_type": "code",
   "execution_count": 71,
   "id": "ed377d03-c9c0-4d2f-a6b2-f06661138e19",
   "metadata": {},
   "outputs": [
    {
     "name": "stdout",
     "output_type": "stream",
     "text": [
      "Hello World!\n"
     ]
    }
   ],
   "source": [
    "print(\"Hello World!\") # Wyswietl na ekranie"
   ]
  },
  {
   "cell_type": "code",
   "execution_count": null,
   "id": "f38905f1-d86d-4fad-a018-a1b148201d7e",
   "metadata": {},
   "outputs": [],
   "source": [
    "# Komentarz"
   ]
  },
  {
   "cell_type": "code",
   "execution_count": null,
   "id": "f83690b9-0770-43e2-a3b5-d810dd16e4e0",
   "metadata": {},
   "outputs": [],
   "source": [
    "\"\"\"\n",
    "Komentarz\n",
    "wieloliniowy\n",
    "\"\"\"\n",
    "print(\"OK\")"
   ]
  },
  {
   "cell_type": "code",
   "execution_count": 14,
   "id": "d667e945-7198-4553-890d-917afeeed45c",
   "metadata": {},
   "outputs": [
    {
     "name": "stdout",
     "output_type": "stream",
     "text": [
      "Sylwia\n"
     ]
    }
   ],
   "source": [
    "Imie = \"Sylwia\" # Ciag znakow\n",
    "print(Imie)"
   ]
  },
  {
   "cell_type": "code",
   "execution_count": 16,
   "id": "2e6516f8-d4d2-4985-ab2d-49f5287bcff6",
   "metadata": {},
   "outputs": [
    {
     "name": "stdout",
     "output_type": "stream",
     "text": [
      "<class 'str'>\n"
     ]
    }
   ],
   "source": [
    "wiek = str(24) # Konwersja liczby na ciag znakow\n",
    "print(type(wiek)) # Typ zmiennej"
   ]
  },
  {
   "cell_type": "code",
   "execution_count": 12,
   "id": "de6165b9-8bdb-46ba-ab22-4fe261c9bf97",
   "metadata": {},
   "outputs": [
    {
     "name": "stdout",
     "output_type": "stream",
     "text": [
      "10\n",
      "10.0\n",
      "10.0\n"
     ]
    }
   ],
   "source": [
    "x = 10 # Liczba calkowita\n",
    "print(x)\n",
    "x = float(10) # Liczba zmiennoprzecinkowa\n",
    "print(x)\n",
    "x = 10.0 # Tez\n",
    "print(x)"
   ]
  },
  {
   "cell_type": "code",
   "execution_count": 25,
   "id": "04eed2d1-93f5-4036-aca0-8eea8512b6ed",
   "metadata": {},
   "outputs": [
    {
     "name": "stdout",
     "output_type": "stream",
     "text": [
      "18.0\n"
     ]
    }
   ],
   "source": [
    "x = 10.0\n",
    "a = 3\n",
    "b = 5\n",
    "print(x+a+b) # Dodawanie liczb"
   ]
  },
  {
   "cell_type": "code",
   "execution_count": 21,
   "id": "60a93bb7-c601-41e4-b84b-8dfd71c423b0",
   "metadata": {},
   "outputs": [
    {
     "ename": "TypeError",
     "evalue": "can only concatenate str (not \"int\") to str",
     "output_type": "error",
     "traceback": [
      "\u001b[1;31m---------------------------------------------------------------------------\u001b[0m",
      "\u001b[1;31mTypeError\u001b[0m                                 Traceback (most recent call last)",
      "Cell \u001b[1;32mIn[21], line 1\u001b[0m\n\u001b[1;32m----> 1\u001b[0m \u001b[38;5;28mprint\u001b[39m(\u001b[38;5;124;43m\"\u001b[39;49m\u001b[38;5;124;43m10\u001b[39;49m\u001b[38;5;124;43m\"\u001b[39;49m\u001b[43m \u001b[49m\u001b[38;5;241;43m+\u001b[39;49m\u001b[43m \u001b[49m\u001b[38;5;241;43m5\u001b[39;49m) \u001b[38;5;66;03m# Nie mozna dodawac ciagow znakow do liczb\u001b[39;00m\n",
      "\u001b[1;31mTypeError\u001b[0m: can only concatenate str (not \"int\") to str"
     ]
    }
   ],
   "source": [
    "print(\"10\" + 5) # Nie mozna dodawac ciagow znakow do liczb"
   ]
  },
  {
   "cell_type": "code",
   "execution_count": 22,
   "id": "752d70ab-48db-4813-a899-d01203a22fb7",
   "metadata": {},
   "outputs": [
    {
     "name": "stdout",
     "output_type": "stream",
     "text": [
      "Python :D\n"
     ]
    }
   ],
   "source": [
    "print(\"Python \" + \":D\") # Mozna dodawac ciagi znakow laczac je"
   ]
  },
  {
   "cell_type": "code",
   "execution_count": 27,
   "id": "b4e44bbf-4390-43f5-a440-a61c40b31fe7",
   "metadata": {},
   "outputs": [
    {
     "name": "stdout",
     "output_type": "stream",
     "text": [
      "Suma: 8\n",
      "Suma: 8\n"
     ]
    }
   ],
   "source": [
    "A = 3\n",
    "B = 5\n",
    "\n",
    "print(\"Suma: \" + str(A+B)) # By dolaczyc liczbe do ciagu znakow nalezy najpierw ja zkonwertowac\n",
    "print(\"Suma:\", A+B) # Funkcja print przyjmuje dowolna ilosc argumentow i laczy je dodajac spacje pomiedzy i wyswietla"
   ]
  },
  {
   "cell_type": "code",
   "execution_count": 45,
   "id": "4d81b508-83be-461b-b2d0-5168bb5cfe39",
   "metadata": {},
   "outputs": [
    {
     "name": "stdout",
     "output_type": "stream",
     "text": [
      "Jak jest: Jest OK\n",
      "Jak jest: Jest OK\n"
     ]
    }
   ],
   "source": [
    "X = \"Jest OK\"\n",
    "\n",
    "def Moje(): # Deklaracja funkcji o nazwie moje bez argumentow\n",
    "    print(\"Jak jest: \" + X)\n",
    "\n",
    "Moje()\n",
    "Moje()"
   ]
  },
  {
   "cell_type": "code",
   "execution_count": 94,
   "id": "18ace231-b1d8-48cc-ba08-41ef80101a0d",
   "metadata": {},
   "outputs": [],
   "source": [
    "def Dodawanie(x, y): # Deklaracja funkcji z dwoma argumentami\n",
    "    return x + y\n",
    "\n",
    "def Odejmowanie(x, y):\n",
    "    return x - y\n",
    "\n",
    "def Mnozenie(x, y):\n",
    "    return \n",
    "\n",
    "def Dzielenie(x, y):\n",
    "    return x / y"
   ]
  },
  {
   "cell_type": "code",
   "execution_count": 98,
   "id": "40bc3a5e-de5a-413b-8d29-08304a846e2e",
   "metadata": {},
   "outputs": [
    {
     "name": "stdout",
     "output_type": "stream",
     "text": [
      "Wynik:  0.5555555555555556\n"
     ]
    }
   ],
   "source": [
    "def Dzialanie(znak, x, y):\n",
    "    wynik = 0\n",
    "    if znak == \"+\": # Wykonuje jezeli warunek jest prawdziwy\n",
    "        wynik = Dodawanie(x, y)\n",
    "    elif znak == \"-\": # W przeciwnym wypadku sprawdza ten warunek i wykona jezeli jest prawdziwy\n",
    "        wynik = Odejmowanie(x, y)\n",
    "    elif znak == \"*\": # Jezeli poprzednie sa nieprawdziwe sprawdza ten\n",
    "        wynik = Mnozenie(x, y)\n",
    "    elif znak == \"/\":\n",
    "        if y == 0:\n",
    "            print(\"Nie dzielimy przez 0\")\n",
    "        else:\n",
    "            wynik = Dzielenie(x, y)\n",
    "    else: # Wykona jezeli wszystkie poprzednie sa nieprawdziwe\n",
    "        wynik = \"Nie ma takiego znaku\"\n",
    "\n",
    "    return wynik\n",
    "\n",
    "znak = \"/\"\n",
    "x = 5\n",
    "y = 9\n",
    "\n",
    "print(\"Wynik: \", Dzialanie(znak, x, y))"
   ]
  },
  {
   "cell_type": "code",
   "execution_count": 125,
   "id": "a8820ce7-54c1-40ad-b571-56d27c663bd7",
   "metadata": {},
   "outputs": [
    {
     "name": "stdout",
     "output_type": "stream",
     "text": [
      "Sylwia\n",
      "Klaudia\n",
      "Zosia\n",
      "Kasia\n"
     ]
    }
   ],
   "source": [
    "imiona = [\"Sylwia\", \"Klaudia\", \"Zosia\", \"Paulina\", \"Marta\"] # Deklaracja tablicy\n",
    "imiona.append(\"Kasia\") # Dodawanie elementu na koniec tablicy\n",
    "\n",
    "for imie in imiona:\n",
    "    if imie == \"Paulina\" or imie == \"Marta\":\n",
    "        continue\n",
    "    print(imie)"
   ]
  },
  {
   "cell_type": "code",
   "execution_count": 1,
   "id": "c01e09a6-d150-44fd-bc4e-a2a4dd3d3f55",
   "metadata": {},
   "outputs": [
    {
     "name": "stdout",
     "output_type": "stream",
     "text": [
      "45\n"
     ]
    }
   ],
   "source": [
    "liczby = [9,5,1,3,7,6,8,2,4]\n",
    "\n",
    "liczby2 = []\n",
    "for i in range(len(liczby)):\n",
    "    liczby2.append(liczby[i] * 2)\n",
    "\n",
    "suma = 0\n",
    "for l in liczby:\n",
    "    suma += l\n",
    "\n",
    "print(suma)"
   ]
  },
  {
   "cell_type": "code",
   "execution_count": 8,
   "id": "bacd4a9d-1c96-4dee-aa29-e9da1badc34c",
   "metadata": {},
   "outputs": [
    {
     "name": "stdout",
     "output_type": "stream",
     "text": [
      "0.8621807098388672 seconds\n",
      "Result:  123\n"
     ]
    }
   ],
   "source": [
    "import time, hashlib\n",
    "\n",
    "starttime = time.time()\n",
    "password = \"123\"\n",
    "hash = hashlib.md5(password.encode()).hexdigest()\n",
    "\n",
    "alphabet = \"abcdefghijklmnopqrstuwvxyzABCDEFGHIJKLMNOPQRSTUWVXYZ1234567890\"\n",
    "length = len(alphabet)\n",
    "resultstring = \"\"\n",
    "\n",
    "number = len(password)\n",
    "\n",
    "for i in range(int(pow(length, number))):\n",
    "    indexes = []\n",
    "\n",
    "    for j in range(number):\n",
    "        indexes.append(int((i % pow(length, j + 1)) / pow(length, j)))\n",
    "\n",
    "    resultstring = \"\"\n",
    "\n",
    "    for j in indexes:\n",
    "        resultstring += alphabet[j]\n",
    "\n",
    "    resulthash = hashlib.md5(resultstring.encode()).hexdigest()\n",
    "\n",
    "    if resulthash == hash:\n",
    "        break\n",
    "\n",
    "print(time.time() - starttime, \"seconds\")\n",
    "print(\"Result: \", resultstring)\n",
    "\n",
    "#48.21822142601013\n",
    "#60.14777421951294"
   ]
  }
 ],
 "metadata": {
  "kernelspec": {
   "display_name": "Python 3 (ipykernel)",
   "language": "python",
   "name": "python3"
  },
  "language_info": {
   "codemirror_mode": {
    "name": "ipython",
    "version": 3
   },
   "file_extension": ".py",
   "mimetype": "text/x-python",
   "name": "python",
   "nbconvert_exporter": "python",
   "pygments_lexer": "ipython3",
   "version": "3.11.5"
  }
 },
 "nbformat": 4,
 "nbformat_minor": 5
}
