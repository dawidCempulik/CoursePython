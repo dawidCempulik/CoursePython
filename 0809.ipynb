{
 "cells": [
  {
   "cell_type": "code",
   "execution_count": 1,
   "id": "569fd15a-73d5-4520-aca6-dcb3ed211a1a",
   "metadata": {},
   "outputs": [],
   "source": [
    "from IPython.display import clear_output"
   ]
  },
  {
   "cell_type": "code",
   "execution_count": 2,
   "id": "ab7b8a08-c1dd-45dc-b028-247232057336",
   "metadata": {},
   "outputs": [
    {
     "name": "stdout",
     "output_type": "stream",
     "text": [
      "root znajduje sie w liscie\n",
      "root znajduje sie w liscie\n"
     ]
    }
   ],
   "source": [
    "loginy = [\"admin\", \"root\", \"user\"]\n",
    "login = \"root\"\n",
    "\n",
    "for l in loginy:\n",
    "    if l == login:\n",
    "        print(login + \" znajduje sie w liscie\")\n",
    "        break\n",
    "\n",
    "for i in range(len(loginy)):\n",
    "    if loginy[i] == login:\n",
    "        print(login + \" znajduje sie w liscie\")\n",
    "        break"
   ]
  },
  {
   "cell_type": "code",
   "execution_count": 3,
   "id": "41f023cf-ce4f-4b26-adf1-6508db108af2",
   "metadata": {},
   "outputs": [],
   "source": [
    "loginy = [\n",
    "    {\n",
    "        \"nazwa\" : \"Sylwia\",\n",
    "        \"email\" : \"admin@d.pl\",\n",
    "        \"login\" : \"admin\",\n",
    "        \"haslo\" : \"1234\"\n",
    "    },\n",
    "    {\n",
    "        \"nazwa\" : \"Klaudia\",\n",
    "        \"email\" : \"root@d.pl\",\n",
    "        \"login\" : \"root\",\n",
    "        \"haslo\" : \"4321\"\n",
    "    }\n",
    "]"
   ]
  },
  {
   "cell_type": "code",
   "execution_count": 4,
   "id": "cbea4b1c-87b0-4c9e-9e2a-26a38be09127",
   "metadata": {},
   "outputs": [
    {
     "name": "stdout",
     "output_type": "stream",
     "text": [
      "2\n",
      "[{'nazwa': 'Sylwia', 'email': 'admin@d.pl', 'login': 'admin', 'haslo': '1234'}, {'nazwa': 'Klaudia', 'email': 'root@d.pl', 'login': 'root', 'haslo': '4321'}]\n"
     ]
    }
   ],
   "source": [
    "print(len(loginy))\n",
    "print(loginy)"
   ]
  },
  {
   "cell_type": "code",
   "execution_count": 5,
   "id": "e4061362-1f5c-47eb-a0ea-8a93aa95a2af",
   "metadata": {},
   "outputs": [
    {
     "name": "stdout",
     "output_type": "stream",
     "text": [
      "Poprawne dane\n"
     ]
    }
   ],
   "source": [
    "login = \"root\"\n",
    "haslo = \"4321\"\n",
    "\n",
    "zalogowany = False\n",
    "for element in loginy:\n",
    "    if element[\"login\"] == login and element[\"haslo\"] == haslo:\n",
    "        zalogowany = True\n",
    "        break\n",
    "\n",
    "if zalogowany:\n",
    "    print(\"Poprawne dane\")\n",
    "else:\n",
    "    print(\"Bledne dane\")"
   ]
  },
  {
   "cell_type": "code",
   "execution_count": 6,
   "id": "da3e133c-8ba8-4208-a6be-423762033b5f",
   "metadata": {},
   "outputs": [
    {
     "name": "stdout",
     "output_type": "stream",
     "text": [
      "Prawda\n"
     ]
    }
   ],
   "source": [
    "def test(a):\n",
    "    if a > 0:\n",
    "        return True\n",
    "    return False\n",
    "\n",
    "if test(1):\n",
    "    print(\"Prawda\")\n",
    "else:\n",
    "    print(\"Falsz\")"
   ]
  },
  {
   "cell_type": "code",
   "execution_count": 7,
   "id": "26234d45-6a0b-4fa0-b16f-dd48bfa1b36e",
   "metadata": {},
   "outputs": [
    {
     "name": "stdin",
     "output_type": "stream",
     "text": [
      "Podaj login: \n",
      "Podaj haslo: \n"
     ]
    },
    {
     "name": "stdout",
     "output_type": "stream",
     "text": [
      "Bledne dane\n"
     ]
    }
   ],
   "source": [
    "def logowanie(l, h):\n",
    "    if l == \"\" or h == \"\":\n",
    "        return False\n",
    "    \n",
    "    for element in loginy:\n",
    "        if (l == element[\"login\"] or l == element[\"email\"]) and h == element[\"haslo\"]:\n",
    "            e = element.copy()\n",
    "            e[\"haslo\"] = \"****\"\n",
    "            return e\n",
    "    return False\n",
    "\n",
    "login = input(\"Podaj login:\")\n",
    "haslo = input(\"Podaj haslo:\")\n",
    "\n",
    "result = logowanie(login, haslo)\n",
    "\n",
    "if result != False:\n",
    "    print(\"Witaj \" + result[\"nazwa\"])\n",
    "    kategoria = input(\"Co chcesz:\")\n",
    "    print(result[kategoria])\n",
    "else:\n",
    "    print(\"Bledne dane\")"
   ]
  },
  {
   "cell_type": "code",
   "execution_count": 8,
   "id": "a54d95f7-ac35-415f-ae71-c5f3797ba042",
   "metadata": {},
   "outputs": [
    {
     "name": "stdout",
     "output_type": "stream",
     "text": [
      "tak\n"
     ]
    }
   ],
   "source": [
    "try:\n",
    "    print(int(\"L\"))\n",
    "except:\n",
    "    print(\"tak\")"
   ]
  },
  {
   "cell_type": "code",
   "execution_count": 9,
   "id": "66269454-c14d-450c-97fc-2e2cd2dc0504",
   "metadata": {},
   "outputs": [
    {
     "name": "stdout",
     "output_type": "stream",
     "text": [
      "Dziala\n"
     ]
    }
   ],
   "source": [
    "def test():\n",
    "    global x\n",
    "    x = \"Dziala\"\n",
    "\n",
    "try:\n",
    "    if x is None:\n",
    "        print(\"\")\n",
    "except:\n",
    "    test()\n",
    "\n",
    "print(x)"
   ]
  },
  {
   "cell_type": "code",
   "execution_count": 10,
   "id": "78fa35ab-b18c-4b2e-b8c3-e10e17ae9519",
   "metadata": {},
   "outputs": [
    {
     "name": "stdout",
     "output_type": "stream",
     "text": [
      "Sylwia\n"
     ]
    }
   ],
   "source": [
    "imie = \"Sylwia\"\n",
    "\n",
    "def test():\n",
    "    imie = \"Klaudia\"\n",
    "\n",
    "test()\n",
    "print(imie)"
   ]
  },
  {
   "cell_type": "code",
   "execution_count": 11,
   "id": "4ff0b9c8-2330-4e46-8fd2-7c2438042bb2",
   "metadata": {},
   "outputs": [
    {
     "name": "stdin",
     "output_type": "stream",
     "text": [
      "Login: \n"
     ]
    },
    {
     "name": "stdout",
     "output_type": "stream",
     "text": [
      "[{'nazwa': 'Sylwia', 'email': 'admin@d.pl', 'login': 'admin', 'haslo': '1234'}, {'nazwa': 'Klaudia', 'email': 'root@d.pl', 'login': 'root', 'haslo': '4321'}]\n"
     ]
    }
   ],
   "source": [
    "def dodaj(login, haslo):\n",
    "    t = {\n",
    "        \"login\": login, \n",
    "        \"haslo\": haslo, \n",
    "        \"nazwa\": login, \n",
    "        \"email\": login + \"@d.pl\"\n",
    "    }\n",
    "    \n",
    "    loginy.append(t)\n",
    "\n",
    "while len(loginy) < 5:\n",
    "    login = input(\"Login:\")\n",
    "    if login == \"\":\n",
    "        break\n",
    "    haslo = input(\"Haslo:\")\n",
    "    powthaslo = input(\"Powtorz:\")\n",
    "    \n",
    "    if haslo == input(\"Powtorz:\") and haslo != \"\":\n",
    "        dodaj(login, haslo)\n",
    "    else:\n",
    "        print(\"Bledne dane\")\n",
    "\n",
    "print(loginy)"
   ]
  },
  {
   "cell_type": "code",
   "execution_count": 15,
   "id": "bc19a878-4f0b-4b3e-a812-c2cfd9e60000",
   "metadata": {},
   "outputs": [
    {
     "name": "stdout",
     "output_type": "stream",
     "text": [
      "Dostepne produkty:\n",
      "0. PC - 2000 zl\n",
      "1. TV - 3000 zl\n",
      "2. PS - 1000 zl\n",
      "3. Xbox - 500 zl\n",
      "\n",
      "Oto twoj koszyk:\n",
      "Pusty koszyk :(\n",
      "\n",
      "Dziekujemy\n"
     ]
    }
   ],
   "source": [
    "produkty = [\n",
    "    {\n",
    "        \"nazwa\": \"PC\",\n",
    "        \"cena\": 2000\n",
    "    },\n",
    "    {\n",
    "        \"nazwa\": \"TV\",\n",
    "        \"cena\": 3000\n",
    "    },\n",
    "    {\n",
    "        \"nazwa\": \"PS\",\n",
    "        \"cena\": 1000\n",
    "    },\n",
    "    {\n",
    "        \"nazwa\": \"Xbox\",\n",
    "        \"cena\": 500\n",
    "    }\n",
    "]\n",
    "\n",
    "koszyk = []\n",
    "\n",
    "def obliczKoszyk():\n",
    "    suma = 0\n",
    "    for k in koszyk:\n",
    "        suma += produkty[k[\"id\"]][\"cena\"] * k[\"ilosc\"]\n",
    "    return suma\n",
    "\n",
    "def wyswietl():\n",
    "    clear_output(wait=False)\n",
    "    print(\"Dostepne produkty:\")\n",
    "    for i in range(len(produkty)):\n",
    "        print(str(i) + \".\", produkty[i][\"nazwa\"], \"-\", produkty[i][\"cena\"], \"zl\")\n",
    "\n",
    "    print(\"\\nOto twoj koszyk:\")\n",
    "    if len(koszyk) == 0:\n",
    "        print(\"Pusty koszyk :(\")\n",
    "        return\n",
    "    else:\n",
    "        for i in range(len(koszyk)):\n",
    "            print(str(koszyk[i][\"id\"]) + \".\", produkty[koszyk[i][\"id\"]][\"nazwa\"], \"   ilosc:\", koszyk[i][\"ilosc\"])\n",
    "        \n",
    "    print(\"Cena koszyka:\", obliczKoszyk(), \"zl\")\n",
    "\n",
    "\n",
    "while True:\n",
    "    wyswietl()\n",
    "    \n",
    "    numer = input(\"\\nCo chcesz kupic:\")\n",
    "    \n",
    "    if numer == \"\":\n",
    "        break\n",
    "    \n",
    "    try:\n",
    "        numer = int(numer)\n",
    "    except:\n",
    "        continue\n",
    "    if numer >= len(produkty):\n",
    "        continue\n",
    "    \n",
    "    ilosc = input(\"Ile tego produktu:\")\n",
    "    try:\n",
    "        ilosc = int(ilosc)\n",
    "    except:\n",
    "        continue\n",
    "\n",
    "    id = -1\n",
    "    for i in range(len(koszyk)):\n",
    "        if koszyk[i][\"id\"] == numer:\n",
    "            id = i\n",
    "            break\n",
    "\n",
    "    if id != -1:\n",
    "        koszyk[id][\"ilosc\"] += ilosc\n",
    "        if koszyk[id][\"ilosc\"] <= 0:\n",
    "            koszyk.remove(koszyk[id])\n",
    "        continue\n",
    "\n",
    "    if ilosc == 0:\n",
    "        continue\n",
    "    \n",
    "    t = {\n",
    "        \"id\": numer,\n",
    "        \"ilosc\": ilosc\n",
    "    }\n",
    "\n",
    "    koszyk.append(t)\n",
    "\n",
    "wyswietl()\n",
    "print(\"\\nDziekujemy\")"
   ]
  },
  {
   "cell_type": "code",
   "execution_count": null,
   "id": "5babe721-fa9c-4e10-931c-b555047f114e",
   "metadata": {},
   "outputs": [],
   "source": []
  }
 ],
 "metadata": {
  "kernelspec": {
   "display_name": "Python 3 (ipykernel)",
   "language": "python",
   "name": "python3"
  },
  "language_info": {
   "codemirror_mode": {
    "name": "ipython",
    "version": 3
   },
   "file_extension": ".py",
   "mimetype": "text/x-python",
   "name": "python",
   "nbconvert_exporter": "python",
   "pygments_lexer": "ipython3",
   "version": "3.11.5"
  }
 },
 "nbformat": 4,
 "nbformat_minor": 5
}
