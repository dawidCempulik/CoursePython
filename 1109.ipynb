{
 "cells": [
  {
   "cell_type": "code",
   "execution_count": 2009,
   "id": "917e715c-c300-487a-870c-d2b82c32a7b3",
   "metadata": {},
   "outputs": [
    {
     "name": "stdout",
     "output_type": "stream",
     "text": [
      "[1, 2, 3, 4, 5, 6, 7, 8, 9]\n"
     ]
    }
   ],
   "source": [
    "liczby = [7,9,3,1,2,6,4,8,5]\n",
    "\n",
    "for i in range(1, len(liczby)):\n",
    "    for j in range(1, len(liczby)):\n",
    "        if liczby[j] < liczby[j-1]:\n",
    "            t = liczby[j]\n",
    "            liczby[j] = liczby[j-1]\n",
    "            liczby[j-1] = t\n",
    "\n",
    "print(liczby)"
   ]
  },
  {
   "cell_type": "code",
   "execution_count": 2010,
   "id": "5d35c206-b149-4bcf-bbed-9a785874d2e9",
   "metadata": {},
   "outputs": [
    {
     "name": "stdout",
     "output_type": "stream",
     "text": [
      "14\n"
     ]
    }
   ],
   "source": [
    "class Klasa:\n",
    "    x = 10\n",
    "\n",
    "klasa = Klasa()\n",
    "klasa.x = 14\n",
    "print(klasa.x)"
   ]
  },
  {
   "cell_type": "code",
   "execution_count": 2011,
   "id": "536199b4-fd55-4e20-81ba-5315ad55e8bd",
   "metadata": {},
   "outputs": [
    {
     "name": "stdin",
     "output_type": "stream",
     "text": [
      "Co: mb\n"
     ]
    },
    {
     "name": "stdout",
     "output_type": "stream",
     "text": [
      "Mercedes\n"
     ]
    }
   ],
   "source": [
    "class BMW:\n",
    "    nazwa = \"BMW\"\n",
    "\n",
    "class MB:\n",
    "    nazwa = \"Mercedes\"\n",
    "\n",
    "auto = None\n",
    "\n",
    "wybor = input(\"Co:\")\n",
    "if wybor == \"bmw\":\n",
    "    auto = BMW()\n",
    "elif wybor == \"mb\":\n",
    "    auto = MB()\n",
    "\n",
    "if auto is None:\n",
    "    print(\"Nie ma takiego\")\n",
    "else:\n",
    "    print(auto.nazwa)"
   ]
  },
  {
   "cell_type": "code",
   "execution_count": 2012,
   "id": "1b1c910b-b224-49f4-a69d-e597e93c477b",
   "metadata": {},
   "outputs": [
    {
     "name": "stdout",
     "output_type": "stream",
     "text": [
      "A - 11\n",
      "B - 22\n",
      "C - 33\n",
      "D - 44\n",
      "E - 55\n"
     ]
    }
   ],
   "source": [
    "class Kontakt:\n",
    "    def __init__(self, imie, nazwisko):\n",
    "        self.imie = imie\n",
    "        self.nazwisko = nazwisko\n",
    "\n",
    "    def __str__(self):\n",
    "        return self.imie + \" - \" + self.nazwisko\n",
    "\n",
    "kontakty = []\n",
    "\n",
    "kontakty.append(Kontakt(\"A\", \"11\"))\n",
    "kontakty.append(Kontakt(\"B\", \"22\"))\n",
    "kontakty.append(Kontakt(\"C\", \"33\"))\n",
    "kontakty.append(Kontakt(\"D\", \"44\"))\n",
    "kontakty.append(Kontakt(\"E\", \"55\"))\n",
    "\n",
    "for k in kontakty:\n",
    "    print(k)"
   ]
  },
  {
   "cell_type": "code",
   "execution_count": 2013,
   "id": "51cd3efc-094e-4018-8c93-24ff7ec47858",
   "metadata": {},
   "outputs": [
    {
     "name": "stdout",
     "output_type": "stream",
     "text": [
      "Silnik: 2JZ   Kolor: Ciemny\n",
      "Cena: 650\n"
     ]
    }
   ],
   "source": [
    "class Samochod:\n",
    "    silnik = V8()\n",
    "    kolor = Ciemny()\n",
    "\n",
    "    def getCena(self):\n",
    "        return self.silnik.cena + self.kolor.cena\n",
    "    \n",
    "    def __str__(self):\n",
    "        return \"Silnik: \" + self.silnik.nazwa + \"   Kolor: \" + self.kolor.nazwa\n",
    "\n",
    "\n",
    "class s2JZ:\n",
    "    nazwa = \"2JZ\"\n",
    "    cena = 500\n",
    "\n",
    "class V8:\n",
    "    nazwa = \"V8\"\n",
    "    cena = 700\n",
    "\n",
    "class Ciemny:\n",
    "    nazwa = \"Ciemny\"\n",
    "    cena = 150\n",
    "\n",
    "class Jasny:\n",
    "    nazwa = \"Jasny\"\n",
    "    cena = 100\n",
    "\n",
    "\n",
    "samochod = Samochod()\n",
    "samochod.silnik = s2JZ()\n",
    "samochod.kolor = Ciemny()\n",
    "\n",
    "print(samochod)\n",
    "print(\"Cena:\", samochod.getCena())"
   ]
  },
  {
   "cell_type": "code",
   "execution_count": 2014,
   "id": "6656310f-1c98-44ce-8235-af62fc849349",
   "metadata": {},
   "outputs": [
    {
     "name": "stdin",
     "output_type": "stream",
     "text": [
      "Ile sera: 3\n",
      "Ile pieczarek: 2\n",
      "Ile ananasa: 1\n"
     ]
    },
    {
     "name": "stdout",
     "output_type": "stream",
     "text": [
      "Twoja pizza bedzie kosztowac: 85 zl\n",
      "Ser\n",
      "Ser\n",
      "Ser\n",
      "Pieczarki\n",
      "Pieczarki\n",
      "Ananas\n"
     ]
    }
   ],
   "source": [
    "class Pizza:\n",
    "    skladniki = []\n",
    "\n",
    "    def getCena(self):\n",
    "        cena = 0\n",
    "        for s in self.skladniki:\n",
    "            cena += s.cena\n",
    "        return cena\n",
    "\n",
    "class Ser:\n",
    "    nazwa = \"Ser\"\n",
    "    cena = 10\n",
    "\n",
    "class Pieczarki:\n",
    "    nazwa = \"Pieczarki\"\n",
    "    cena = 15\n",
    "\n",
    "class Ananas:\n",
    "    nazwa = \"Ananas\"\n",
    "    cena = 25\n",
    "\n",
    "s = 0\n",
    "p = 0\n",
    "a = 0\n",
    "\n",
    "try:\n",
    "    s = int(input(\"Ile sera:\"))\n",
    "    p = int(input(\"Ile pieczarek:\"))\n",
    "    a = int(input(\"Ile ananasa:\"))\n",
    "    if s < 0: s = 0\n",
    "    if p < 0: p = 0\n",
    "    if a < 0: a = 0\n",
    "except:\n",
    "    print(\"To nie jest liczba!\")\n",
    "\n",
    "\n",
    "pizza = Pizza()\n",
    "for i in range(s):\n",
    "    pizza.skladniki.append(Ser())\n",
    "for i in range(p):\n",
    "    pizza.skladniki.append(Pieczarki())\n",
    "for i in range(a):\n",
    "    pizza.skladniki.append(Ananas())\n",
    "\n",
    "cena = pizza.getCena()\n",
    "if cena == 0:\n",
    "    print(\"Nie dostaniesz pizzy!\")\n",
    "else:\n",
    "    print(\"Twoja pizza bedzie kosztowac:\", pizza.getCena(), \"zl\")\n",
    "    for s in pizza.skladniki:\n",
    "        print(s.nazwa)"
   ]
  },
  {
   "cell_type": "code",
   "execution_count": 2017,
   "id": "9a811d8c-0519-4194-b4f8-cc1e646bf459",
   "metadata": {},
   "outputs": [
    {
     "name": "stdout",
     "output_type": "stream",
     "text": [
      "Osoba: Sylwia   Tel: 500600700\n"
     ]
    }
   ],
   "source": [
    "class Osoba:\n",
    "    def __init__(self, nazwa, telefon):\n",
    "        self.nazwa = nazwa\n",
    "        self.telefon = telefon\n",
    "    \n",
    "    def __str__(self):\n",
    "        return f\"Osoba: {self.nazwa}   Tel: {self.telefon}\"\n",
    "\n",
    "osoba = Osoba(\"Sylwia\", \"500600700\")\n",
    "print(osoba)"
   ]
  },
  {
   "cell_type": "code",
   "execution_count": 2038,
   "id": "187119a9-2ec9-444e-80d8-beb35c34e5d5",
   "metadata": {},
   "outputs": [
    {
     "name": "stdout",
     "output_type": "stream",
     "text": [
      "Marka: Opel    Model: Insignia    Ladownosc: 5\n"
     ]
    }
   ],
   "source": [
    "class Pojazd:\n",
    "    def __init__(self, marka, model):\n",
    "        self.marka = marka\n",
    "        self.model = model\n",
    "\n",
    "    def __str__(self):\n",
    "        return f\"Marka: {self.marka}    Model: {self.model}\"\n",
    "\n",
    "\n",
    "class Osobowka(Pojazd):\n",
    "    def __init__(self, marka, model, miejsca):\n",
    "        Pojazd.__init__(self, marka, model)\n",
    "        self.miejsca = miejsca\n",
    "\n",
    "    def __str__(self):\n",
    "        return f\"Marka: {self.marka}    Model: {self.model}    Miejsca: {self.miejsca}\"\n",
    "        \n",
    "\n",
    "class Ciezarowka(Pojazd):\n",
    "    def __init__(self, marka, model, ladownosc):\n",
    "        Pojazd.__init__(self, marka, model)\n",
    "        self.ladownosc = ladownosc\n",
    "\n",
    "    def __str__(self):\n",
    "        return f\"Marka: {self.marka}    Model: {self.model}    Ladownosc: {self.ladownosc}\"\n",
    "\n",
    "\n",
    "osobowka = Ciezarowka(\"Opel\", \"Insignia\", 5)\n",
    "print(osobowka)"
   ]
  }
 ],
 "metadata": {
  "kernelspec": {
   "display_name": "Python 3 (ipykernel)",
   "language": "python",
   "name": "python3"
  },
  "language_info": {
   "codemirror_mode": {
    "name": "ipython",
    "version": 3
   },
   "file_extension": ".py",
   "mimetype": "text/x-python",
   "name": "python",
   "nbconvert_exporter": "python",
   "pygments_lexer": "ipython3",
   "version": "3.11.5"
  }
 },
 "nbformat": 4,
 "nbformat_minor": 5
}
