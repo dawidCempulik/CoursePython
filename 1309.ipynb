{
 "cells": [
  {
   "cell_type": "code",
   "execution_count": 52,
   "id": "d9f2288c-63e9-4e6a-b6e0-3b72d3de0f62",
   "metadata": {},
   "outputs": [],
   "source": [
    "import mysql.connector\n",
    "\n",
    "con = mysql.connector.connect(host=\"localhost\", user=\"root\", password=\"\", database=\"sklep\")\n",
    "\n",
    "cursor = con.cursor()\n",
    "cursor.execute(\"select * from users where login = '%s'\")\n",
    "result = cursor.fetchall()\n",
    "\n",
    "for line in result:\n",
    "    print(line)"
   ]
  }
 ],
 "metadata": {
  "kernelspec": {
   "display_name": "Python 3 (ipykernel)",
   "language": "python",
   "name": "python3"
  },
  "language_info": {
   "codemirror_mode": {
    "name": "ipython",
    "version": 3
   },
   "file_extension": ".py",
   "mimetype": "text/x-python",
   "name": "python",
   "nbconvert_exporter": "python",
   "pygments_lexer": "ipython3",
   "version": "3.11.5"
  }
 },
 "nbformat": 4,
 "nbformat_minor": 5
}
