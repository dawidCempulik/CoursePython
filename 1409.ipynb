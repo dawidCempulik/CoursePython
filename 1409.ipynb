{
 "cells": [
  {
   "cell_type": "code",
   "execution_count": 46,
   "id": "abeae744-c95f-4db0-ab80-1bf58103f83a",
   "metadata": {
    "editable": true,
    "slideshow": {
     "slide_type": ""
    },
    "tags": []
   },
   "outputs": [
    {
     "name": "stdout",
     "output_type": "stream",
     "text": [
      "Logowanie\n"
     ]
    },
    {
     "name": "stdin",
     "output_type": "stream",
     "text": [
      "Podaj login: \n"
     ]
    },
    {
     "name": "stdout",
     "output_type": "stream",
     "text": [
      "Rejestracja\n"
     ]
    },
    {
     "name": "stdin",
     "output_type": "stream",
     "text": [
      "Podaj login: \n"
     ]
    }
   ],
   "source": [
    "import mysql.connector, hashlib, math, time\n",
    "\n",
    "class Database:\n",
    "    def __init__(self):\n",
    "        self.user = False\n",
    "        \n",
    "        host=\"localhost\"\n",
    "        user=\"root\"\n",
    "        password=\"\"\n",
    "        database=\"sklep\"\n",
    "        self.con = mysql.connector.connect(host=host, user=user, password=password, database=database)\n",
    "        self.cursor = self.con.cursor()\n",
    "\n",
    "    def query(self, q):\n",
    "        self.cursor.execute(q)\n",
    "        return self.cursor.fetchall()\n",
    "\n",
    "    def close(self):\n",
    "        self.cursor.close()\n",
    "        self.con.close()\n",
    "\n",
    "    def login(self, l, p):\n",
    "        result = self.query(f\"select id, nazwa \"+\n",
    "                            f\"from users \"+\n",
    "                            f\"where (login='{l}' or email='{l}') and haslo=md5('{p}')\")\n",
    "        if len(result) > 1:\n",
    "            print(\"Database error!\")\n",
    "        if len(result) == 1:\n",
    "            self.user = result[0]\n",
    "        self.getUprawnienia()\n",
    "        return self.user\n",
    "\n",
    "    def register(self, l, p, n, t):\n",
    "        try:\n",
    "            self.query(f\"insert into users (login, haslo, nazwa, typ) \"+\n",
    "                       f\"values ('{l}', md5('{p}'), '{n}', '{t}')\")\n",
    "            self.con.commit()\n",
    "            return self.login(l, p)\n",
    "        except:\n",
    "            return False\n",
    "\n",
    "    def getUprawnienia(self):\n",
    "        if self.user == False:\n",
    "            return False\n",
    "\n",
    "        result = self.query(f\"select typyk.users, typyk.zamowienia \"+\n",
    "                            f\"from users inner join typyk on users.typ = typyk.id \"+\n",
    "                            f\"where users.id = '{self.user[0]}'\")\n",
    "\n",
    "        self.uprawnienia = []\n",
    "        for r in result[0]:\n",
    "            if r == \"T\":\n",
    "                self.uprawnienia.append(True)\n",
    "            else:\n",
    "                self.uprawnienia.append(False)\n",
    "\n",
    "        return self.uprawnienia\n",
    "\n",
    "    def getZamowienia(self):\n",
    "        if self.user == False:\n",
    "            return False\n",
    "        query = f\"select * from zamowienia where status <> 'Zakonczono'\"\n",
    "        if not self.uprawnienia[1]:\n",
    "            query += f\" and userid = {self.user[0]}\"\n",
    "            \n",
    "        result = self.query(query)\n",
    "\n",
    "        return result\n",
    "\n",
    "\n",
    "database = Database()\n",
    "\n",
    "print(\"Logowanie\")\n",
    "while True:\n",
    "    login = input(\"Podaj login:\")\n",
    "    if login == \"\":\n",
    "        break\n",
    "    password = input(\"Podaj haslo:\")\n",
    "\n",
    "    result = database.login(login, password)\n",
    "    \n",
    "    if result != False:\n",
    "        print(\"Witaj,\", result[1])\n",
    "        break\n",
    "\n",
    "    print(\"Nieprawidlowe dane logowania\")\n",
    "\n",
    "if database.user != False:\n",
    "    for line in database.getZamowienia():\n",
    "        print(line)\n",
    "else:\n",
    "    print(\"Rejestracja\")\n",
    "\n",
    "    while True:\n",
    "        login = input(\"Podaj login:\")\n",
    "        if login == \"\":\n",
    "            break\n",
    "        password = input(\"Podaj haslo:\")\n",
    "        nazwa = input(\"Podaj nazwe:\")\n",
    "        typ = input(\"Podaj typ konta: 1 dla admin, 2 dla user:\")\n",
    "\n",
    "        result = database.register(login, password, nazwa, typ)\n",
    "\n",
    "        if result != False:\n",
    "            print(\"Witaj,\", result[1])\n",
    "            break\n",
    "\n",
    "        print(\"Taki login juz istnieje\")\n",
    "\n",
    "database.close()"
   ]
  }
 ],
 "metadata": {
  "kernelspec": {
   "display_name": "Python 3 (ipykernel)",
   "language": "python",
   "name": "python3"
  },
  "language_info": {
   "codemirror_mode": {
    "name": "ipython",
    "version": 3
   },
   "file_extension": ".py",
   "mimetype": "text/x-python",
   "name": "python",
   "nbconvert_exporter": "python",
   "pygments_lexer": "ipython3",
   "version": "3.11.5"
  }
 },
 "nbformat": 4,
 "nbformat_minor": 5
}
