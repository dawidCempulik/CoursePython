{
 "cells": [
  {
   "cell_type": "code",
   "execution_count": 12,
   "id": "ae5ed7b6-1359-47ea-aca2-cc6c3b583bf0",
   "metadata": {},
   "outputs": [
    {
     "name": "stdout",
     "output_type": "stream",
     "text": [
      "x\n",
      "xx\n",
      "xxx\n"
     ]
    }
   ],
   "source": [
    "for i in range(3):\n",
    "    for j in range(i+1):\n",
    "        print(\"x\", end=\"\")\n",
    "    print(\"\")"
   ]
  },
  {
   "cell_type": "code",
   "execution_count": 49,
   "id": "e906605f-1333-4a28-9f0b-2b5a92fc3dcb",
   "metadata": {},
   "outputs": [
    {
     "name": "stdout",
     "output_type": "stream",
     "text": [
      "4\n"
     ]
    }
   ],
   "source": [
    "zdanie = \"* Ala * ma * kota *\"\n",
    "\n",
    "s = 0\n",
    "for c in zdanie:\n",
    "    if c == \"*\":\n",
    "        s += 1\n",
    "print(s)"
   ]
  },
  {
   "cell_type": "code",
   "execution_count": 77,
   "id": "93d2ea75-c040-4165-95c8-0912a765e449",
   "metadata": {},
   "outputs": [
    {
     "name": "stdout",
     "output_type": "stream",
     "text": [
      "4420851\n"
     ]
    }
   ],
   "source": [
    "def suma(n):\n",
    "    if n <= 0:\n",
    "        return 0\n",
    "    else:\n",
    "        return suma(n-1) + n\n",
    "\n",
    "print(suma(2973))"
   ]
  },
  {
   "cell_type": "code",
   "execution_count": 79,
   "id": "4f686aba-c159-4ff6-9d77-fc1978cd1987",
   "metadata": {},
   "outputs": [
    {
     "name": "stdout",
     "output_type": "stream",
     "text": [
      "t+e+s+t+"
     ]
    }
   ],
   "source": [
    "def test(x):\n",
    "    for z in x:\n",
    "        print(z+\"+\", end=\"\")\n",
    "\n",
    "test(\"test\")"
   ]
  },
  {
   "cell_type": "code",
   "execution_count": 355,
   "id": "e8a27b77-7986-407d-af14-fe776b317241",
   "metadata": {},
   "outputs": [
    {
     "name": "stdout",
     "output_type": "stream",
     "text": [
      "Jakies sobie zdanie, tak o - for fun - bo czemu nie?\n",
      "Wnxvrf fbovr mqnavr, gnx b - sbe sha - ob pmrzh avr?\n",
      "Jakies sobie zdanie, tak o - for fun - bo czemu nie?\n"
     ]
    }
   ],
   "source": [
    "def cezar(tekst, p):\n",
    "    nowy = \"\"\n",
    "    for t in tekst:\n",
    "        ascii = ord(t)\n",
    "        if ascii < 65 or ascii > 90 and ascii < 97 or ascii > 122:\n",
    "            nowy += t\n",
    "            continue\n",
    "        \n",
    "        nowyascii = ascii + p\n",
    "        \n",
    "        if nowyascii > 90 and ascii <= 90:\n",
    "            nowyascii = 65 + (nowyascii - 91)\n",
    "        elif nowyascii > 122 and ascii <= 122:\n",
    "            nowyascii = 97 + (nowyascii - 123)\n",
    "        \n",
    "        elif nowyascii < 65 and ascii >= 65:\n",
    "            nowyascii = 90 - (64 - nowyascii)\n",
    "        elif nowyascii < 97 and ascii >= 97:\n",
    "            nowyascii = 122 - (96 - nowyascii)\n",
    "        \n",
    "        nowy += chr(nowyascii)\n",
    "\n",
    "    return nowy\n",
    "\n",
    "zdanie = \"Jakies sobie zdanie, tak o - for fun - bo czemu nie?\"\n",
    "encoded = cezar(zdanie, 13)\n",
    "decoded = cezar(encoded, -13)\n",
    "\n",
    "print(zdanie)\n",
    "print(encoded)\n",
    "print(decoded)"
   ]
  },
  {
   "cell_type": "code",
   "execution_count": 709,
   "id": "80c99993-a98d-40aa-9d9c-7f54a497b89d",
   "metadata": {},
   "outputs": [
    {
     "name": "stdout",
     "output_type": "stream",
     "text": [
      "[10, 17, 22, 26, 34, 38]\n"
     ]
    }
   ],
   "source": [
    "import random\n",
    "\n",
    "liczby = []\n",
    "\n",
    "while len(liczby) < 6:\n",
    "    rand = random.randint(1, 50)\n",
    "    if rand in liczby:\n",
    "        continue\n",
    "\n",
    "    liczby.append(rand)\n",
    "\n",
    "liczby.sort()\n",
    "print(liczby)"
   ]
  },
  {
   "cell_type": "code",
   "execution_count": 728,
   "id": "8153d15c-4a8e-447b-92e3-4853905f3114",
   "metadata": {},
   "outputs": [
    {
     "name": "stdout",
     "output_type": "stream",
     "text": [
      "Wylosowalem liczbe pomiedzy 1 i 100\n"
     ]
    },
    {
     "name": "stdin",
     "output_type": "stream",
     "text": [
      "Zgadnij: \n"
     ]
    },
    {
     "name": "stdout",
     "output_type": "stream",
     "text": [
      "Mowilem ze LICZBE!!\n"
     ]
    }
   ],
   "source": [
    "import random\n",
    "\n",
    "min = 1\n",
    "max = 100\n",
    "rand = random.randint(min, max)\n",
    "guesses = []\n",
    "proby = 0\n",
    "\n",
    "print(f\"Wylosowalem liczbe pomiedzy {min} i {max}\")\n",
    "\n",
    "while True:\n",
    "    proby += 1\n",
    "    guess = input(\"Zgadnij:\")\n",
    "    try:\n",
    "        guess = int(guess)\n",
    "    except:\n",
    "        print(\"Mowilem ze LICZBE!!\")\n",
    "        break\n",
    "\n",
    "    if guess in guesses:\n",
    "        print(\"Powtarzasz sie..., ale \", end = \"\")\n",
    "    elif guess < min or guess > max:\n",
    "        print(f\"Jasne na pewno {guess} bedzie w zbiorze od {min} do {max}\")\n",
    "    else:\n",
    "        guesses.append(guess)\n",
    "    \n",
    "    if guess < rand:\n",
    "        print(\"za malo!\")\n",
    "    elif guess > rand:\n",
    "        print(\"za duzo!\")\n",
    "    else:\n",
    "        print(f\"BRAWO WYGRALES! w {proby} probach!!!\")\n",
    "        break"
   ]
  },
  {
   "cell_type": "code",
   "execution_count": 738,
   "id": "87af3766-79b2-4621-9b0c-f20614c80976",
   "metadata": {
    "scrolled": true
   },
   "outputs": [
    {
     "name": "stdout",
     "output_type": "stream",
     "text": [
      "1\n",
      "2\n",
      "3\n",
      "5\n",
      "8\n",
      "13\n",
      "21\n",
      "34\n",
      "55\n",
      "89\n",
      "144\n",
      "233\n",
      "377\n",
      "610\n",
      "987\n",
      "1597\n",
      "2584\n",
      "4181\n",
      "6765\n",
      "10946\n"
     ]
    }
   ],
   "source": [
    "x = 10000\n",
    "\n",
    "numbers = [0, 1, 0]\n",
    "\n",
    "for i in range(20):\n",
    "    numbers[2] = numbers[0] + numbers[1]\n",
    "    numbers[0] = numbers[1]\n",
    "    numbers[1] = numbers[2]\n",
    "\n",
    "    print(numbers[2])"
   ]
  },
  {
   "cell_type": "code",
   "execution_count": null,
   "id": "0acc91d5-a1a6-488f-b9cd-5f0125787e8e",
   "metadata": {},
   "outputs": [],
   "source": []
  },
  {
   "cell_type": "code",
   "execution_count": 66,
   "id": "95c59641-b657-4723-b0d8-14abdc8e7dee",
   "metadata": {},
   "outputs": [
    {
     "name": "stdin",
     "output_type": "stream",
     "text": [
      "Chcesz grac z komputerem czy graczem?\n",
      "1. Gracz\n",
      "2. Komputer\n",
      "Wybierz: 2\n"
     ]
    },
    {
     "name": "stdout",
     "output_type": "stream",
     "text": [
      ". . . \n",
      ". . . \n",
      ". . . \n"
     ]
    },
    {
     "name": "stdin",
     "output_type": "stream",
     "text": [
      "O - podaj gdzie: b2\n"
     ]
    },
    {
     "name": "stdout",
     "output_type": "stream",
     "text": [
      ". . X \n",
      ". O . \n",
      ". . . \n"
     ]
    },
    {
     "name": "stdin",
     "output_type": "stream",
     "text": [
      "O - podaj gdzie: c2\n"
     ]
    },
    {
     "name": "stdout",
     "output_type": "stream",
     "text": [
      ". . X \n",
      ". O O \n",
      ". X . \n"
     ]
    },
    {
     "name": "stdin",
     "output_type": "stream",
     "text": [
      "O - podaj gdzie: a2\n"
     ]
    },
    {
     "name": "stdout",
     "output_type": "stream",
     "text": [
      "WYGRAL O\n"
     ]
    }
   ],
   "source": [
    "import random\n",
    "\n",
    "plansza = [[\".\", \".\", \".\"],\n",
    "           [\".\", \".\", \".\"],\n",
    "           [\".\", \".\", \".\"]]\n",
    "\n",
    "def insert(position, sign, board):\n",
    "    if len(position) != 2:\n",
    "        return False\n",
    "    \n",
    "    pos = [0, 0]\n",
    "    if position[0] == \"a\":\n",
    "        pos[1] = 0\n",
    "    elif position[0] == \"b\":\n",
    "        pos[1] = 1\n",
    "    elif position[0] == \"c\":\n",
    "        pos[1] = 2\n",
    "    else:\n",
    "        return False\n",
    "\n",
    "    try:\n",
    "        pos[0] = 3 - int(position[1])\n",
    "        if pos[0] < 0 or pos[0] > 2:\n",
    "            return False\n",
    "    except:\n",
    "        return False\n",
    "\n",
    "    if board[pos[0]][pos[1]] != \".\" and sign != \".\":\n",
    "        return False\n",
    "    \n",
    "    board[pos[0]][pos[1]] = sign\n",
    "\n",
    "def wyswietl(board):\n",
    "    for y in board:\n",
    "        for x in y:\n",
    "            print(x, end=\" \")\n",
    "        print(\"\")\n",
    "\n",
    "def checkone(sign, board):\n",
    "    number = 0\n",
    "    \n",
    "    for y in range(len(board)):\n",
    "        for x in range(len(board)):\n",
    "            if board[y][x] == sign:\n",
    "                number += 1\n",
    "            if number == 3:\n",
    "                return True\n",
    "        number = 0\n",
    "        \n",
    "    \n",
    "    for y in range(len(board)):\n",
    "        for x in range(len(board)):\n",
    "            if board[x][y] == sign:\n",
    "                number += 1\n",
    "            if number == 3:\n",
    "                return True\n",
    "        number = 0\n",
    "\n",
    "    for x in range(len(board)):\n",
    "        if board[x][x] == sign:\n",
    "            number += 1\n",
    "        if number == 3:\n",
    "            return True\n",
    "\n",
    "    number = 0\n",
    "\n",
    "        \n",
    "    for x in range(len(board)):\n",
    "        if board[x][-x-1] == sign:\n",
    "            number += 1\n",
    "        if number == 3:\n",
    "            return True\n",
    "    \n",
    "\n",
    "def koniec(board):\n",
    "    if checkone(\"X\", board):\n",
    "        return \"X\"\n",
    "    if checkone(\"O\", board):\n",
    "        return \"O\"\n",
    "        \n",
    "    stop = True\n",
    "    for y in board:\n",
    "        for x in y:\n",
    "            if x == \".\":\n",
    "                stop = False\n",
    "\n",
    "    if stop:\n",
    "        return \"draw\"\n",
    "\n",
    "def reversesign(sign):\n",
    "    if sign == \"O\":\n",
    "        return \"X\"\n",
    "    elif sign == \"X\":\n",
    "        return \"O\"\n",
    "    else:\n",
    "        return False\n",
    "\n",
    "def getlegalmoves(board):\n",
    "    moves = []\n",
    "    \n",
    "    for y in range(len(board)):\n",
    "        for x in range(len(board)):\n",
    "            if board[y][x] == \".\":\n",
    "                movex = \"a\"\n",
    "                if x == 1:\n",
    "                    movex = \"b\"\n",
    "                elif x == 2:\n",
    "                    movex = \"c\"\n",
    "\n",
    "                moves.append(movex + str(3 - y))\n",
    "\n",
    "    return moves\n",
    "\n",
    "def getbestmove(sign, board, number, lastmove):\n",
    "    number += 1\n",
    "\n",
    "    bestmove = \".\"\n",
    "    bestnumber = 999\n",
    "\n",
    "    legalmoves = getlegalmoves(board)\n",
    "    \n",
    "    if len(legalmoves) == 0:\n",
    "        return [lastmove, number]\n",
    "\n",
    "    for move in legalmoves:\n",
    "        insert(move, sign, board)\n",
    "        kon = koniec(board)\n",
    "        if kon == sign:\n",
    "            bestmove = move\n",
    "            bestnumber = number\n",
    "\n",
    "            insert(move, \".\", board)\n",
    "            break\n",
    "        \n",
    "        t = getbestmove(reversesign(sign), board[:], number, move)\n",
    "        if bestnumber > t[1]:\n",
    "            bestmove = t[0]\n",
    "            bestnumer = t[1]\n",
    "\n",
    "        insert(move, \".\", board)\n",
    "\n",
    "    if bestnumber == 999:\n",
    "        bestnumber = number\n",
    "        bestmove = legalmoves[random.randint(0, len(legalmoves)-1)]\n",
    "\n",
    "    return [bestmove, bestnumber]\n",
    "            \n",
    "\n",
    "def generatecomputermove(sign):\n",
    "    board = plansza[:]\n",
    "    t = getbestmove(sign, board, 0, \"\")\n",
    "    return t[0]\n",
    "\n",
    "kolej = random.randint(0, 1)\n",
    "if kolej == 0:\n",
    "    kolej = True\n",
    "else:\n",
    "    kolej = False\n",
    "    \n",
    "komputer = True\n",
    "\n",
    "wybor = input(\"Chcesz grac z komputerem czy graczem?\\n1. Gracz\\n2. Komputer\\nWybierz:\")\n",
    "try:\n",
    "    wybor = int(wybor)\n",
    "except:\n",
    "    print(\"Zly wybor, grasz z komputerem\")\n",
    "    wybor = 2\n",
    "\n",
    "if wybor == 1:\n",
    "    komputer = False\n",
    "elif wybor > 2 or wybor < 1:\n",
    "    print(\"Zly wybor, grasz z komputerem\")\n",
    "\n",
    "wyswietl(plansza)\n",
    "\n",
    "while True:\n",
    "    if kolej:\n",
    "        if komputer:\n",
    "            insert(generatecomputermove(\"X\"), \"X\", plansza)\n",
    "        else:\n",
    "            move = input(\"X - podaj gdzie:\")\n",
    "            if move == \"stop\":\n",
    "                print(\"Konczymy gre\")\n",
    "                break\n",
    "            if insert(move, \"X\", plansza) == False:\n",
    "                print(\"Zla pozycja\")\n",
    "                continue\n",
    "        wyswietl(plansza)\n",
    "\n",
    "    if not kolej:\n",
    "        move = input(\"O - podaj gdzie:\")\n",
    "        if move == \"stop\":\n",
    "            print(\"Konczymy gre\")\n",
    "            break\n",
    "        if insert(move, \"O\", plansza) == False:\n",
    "            print(\"Zla pozycja\")\n",
    "            continue\n",
    "        if not komputer:\n",
    "            wyswietl(plansza)\n",
    "\n",
    "    kolej = not kolej\n",
    "    \n",
    "    wynik = koniec(plansza)\n",
    "    if wynik == \"X\":\n",
    "        print(\"WYGRAL X\")\n",
    "        break\n",
    "    elif wynik == \"O\":\n",
    "        print(\"WYGRAL O\")\n",
    "        break\n",
    "    elif wynik == \"draw\":\n",
    "        print(\"REMIS\")\n",
    "        break\n",
    "\n",
    "wyswietl(plansza)\n",
    "# print(getlegalmoves(plansza))\n",
    "# move = generatecomputermove(\"O\")\n",
    "# print(move)\n",
    "# insert(move, \"O\", plansza)\n",
    "# print(koniec(plansza))\n",
    "# wyswietl(plansza)"
   ]
  },
  {
   "cell_type": "code",
   "execution_count": null,
   "id": "4d5e99ec-612b-45f2-840e-82d75697de1f",
   "metadata": {},
   "outputs": [],
   "source": []
  }
 ],
 "metadata": {
  "kernelspec": {
   "display_name": "Python 3 (ipykernel)",
   "language": "python",
   "name": "python3"
  },
  "language_info": {
   "codemirror_mode": {
    "name": "ipython",
    "version": 3
   },
   "file_extension": ".py",
   "mimetype": "text/x-python",
   "name": "python",
   "nbconvert_exporter": "python",
   "pygments_lexer": "ipython3",
   "version": "3.11.5"
  }
 },
 "nbformat": 4,
 "nbformat_minor": 5
}
